{
 "cells": [
  {
   "cell_type": "code",
   "execution_count": 1,
   "id": "2cf8104a",
   "metadata": {
    "scrolled": true
   },
   "outputs": [],
   "source": [
    "import numpy as np\n",
    "import pandas as pd"
   ]
  },
  {
   "cell_type": "code",
   "execution_count": 2,
   "id": "945cb53e",
   "metadata": {
    "scrolled": true
   },
   "outputs": [
    {
     "name": "stderr",
     "output_type": "stream",
     "text": [
      "C:\\Users\\vaish\\AppData\\Local\\Temp\\ipykernel_13540\\929516247.py:1: DtypeWarning: Columns (33) have mixed types. Specify dtype option on import or set low_memory=False.\n",
      "  df= pd.read_csv('owid-covid-data.csv')\n"
     ]
    },
    {
     "data": {
      "text/html": [
       "<div>\n",
       "<style scoped>\n",
       "    .dataframe tbody tr th:only-of-type {\n",
       "        vertical-align: middle;\n",
       "    }\n",
       "\n",
       "    .dataframe tbody tr th {\n",
       "        vertical-align: top;\n",
       "    }\n",
       "\n",
       "    .dataframe thead th {\n",
       "        text-align: right;\n",
       "    }\n",
       "</style>\n",
       "<table border=\"1\" class=\"dataframe\">\n",
       "  <thead>\n",
       "    <tr style=\"text-align: right;\">\n",
       "      <th></th>\n",
       "      <th>iso_code</th>\n",
       "      <th>continent</th>\n",
       "      <th>location</th>\n",
       "      <th>date</th>\n",
       "      <th>total_cases</th>\n",
       "      <th>new_cases</th>\n",
       "      <th>new_cases_smoothed</th>\n",
       "      <th>total_deaths</th>\n",
       "      <th>new_deaths</th>\n",
       "      <th>new_deaths_smoothed</th>\n",
       "      <th>...</th>\n",
       "      <th>male_smokers</th>\n",
       "      <th>handwashing_facilities</th>\n",
       "      <th>hospital_beds_per_thousand</th>\n",
       "      <th>life_expectancy</th>\n",
       "      <th>human_development_index</th>\n",
       "      <th>population</th>\n",
       "      <th>excess_mortality_cumulative_absolute</th>\n",
       "      <th>excess_mortality_cumulative</th>\n",
       "      <th>excess_mortality</th>\n",
       "      <th>excess_mortality_cumulative_per_million</th>\n",
       "    </tr>\n",
       "  </thead>\n",
       "  <tbody>\n",
       "    <tr>\n",
       "      <th>0</th>\n",
       "      <td>EST</td>\n",
       "      <td>Europe</td>\n",
       "      <td>Estonia</td>\n",
       "      <td>6/19/2022</td>\n",
       "      <td>564276.0</td>\n",
       "      <td>822.0</td>\n",
       "      <td>117.429</td>\n",
       "      <td>2462.0</td>\n",
       "      <td>2.0</td>\n",
       "      <td>0.286</td>\n",
       "      <td>...</td>\n",
       "      <td>39.3</td>\n",
       "      <td>NaN</td>\n",
       "      <td>4.690</td>\n",
       "      <td>78.74</td>\n",
       "      <td>0.892</td>\n",
       "      <td>1326064</td>\n",
       "      <td>3483.9</td>\n",
       "      <td>8.89</td>\n",
       "      <td>7.79</td>\n",
       "      <td>2627.2488</td>\n",
       "    </tr>\n",
       "    <tr>\n",
       "      <th>1</th>\n",
       "      <td>OWID_ASI</td>\n",
       "      <td>NaN</td>\n",
       "      <td>Asia</td>\n",
       "      <td>11/20/2023</td>\n",
       "      <td>NaN</td>\n",
       "      <td>NaN</td>\n",
       "      <td>NaN</td>\n",
       "      <td>NaN</td>\n",
       "      <td>NaN</td>\n",
       "      <td>NaN</td>\n",
       "      <td>...</td>\n",
       "      <td>NaN</td>\n",
       "      <td>NaN</td>\n",
       "      <td>NaN</td>\n",
       "      <td>NaN</td>\n",
       "      <td>NaN</td>\n",
       "      <td>4721383370</td>\n",
       "      <td>NaN</td>\n",
       "      <td>NaN</td>\n",
       "      <td>NaN</td>\n",
       "      <td>NaN</td>\n",
       "    </tr>\n",
       "    <tr>\n",
       "      <th>2</th>\n",
       "      <td>BGR</td>\n",
       "      <td>Europe</td>\n",
       "      <td>Bulgaria</td>\n",
       "      <td>11/20/2023</td>\n",
       "      <td>NaN</td>\n",
       "      <td>NaN</td>\n",
       "      <td>NaN</td>\n",
       "      <td>NaN</td>\n",
       "      <td>NaN</td>\n",
       "      <td>NaN</td>\n",
       "      <td>...</td>\n",
       "      <td>44.4</td>\n",
       "      <td>NaN</td>\n",
       "      <td>7.454</td>\n",
       "      <td>75.05</td>\n",
       "      <td>0.816</td>\n",
       "      <td>6781955</td>\n",
       "      <td>NaN</td>\n",
       "      <td>NaN</td>\n",
       "      <td>NaN</td>\n",
       "      <td>NaN</td>\n",
       "    </tr>\n",
       "  </tbody>\n",
       "</table>\n",
       "<p>3 rows × 67 columns</p>\n",
       "</div>"
      ],
      "text/plain": [
       "   iso_code continent  location        date  total_cases  new_cases  \\\n",
       "0       EST    Europe   Estonia   6/19/2022     564276.0      822.0   \n",
       "1  OWID_ASI       NaN      Asia  11/20/2023          NaN        NaN   \n",
       "2       BGR    Europe  Bulgaria  11/20/2023          NaN        NaN   \n",
       "\n",
       "   new_cases_smoothed  total_deaths  new_deaths  new_deaths_smoothed  ...  \\\n",
       "0             117.429        2462.0         2.0                0.286  ...   \n",
       "1                 NaN           NaN         NaN                  NaN  ...   \n",
       "2                 NaN           NaN         NaN                  NaN  ...   \n",
       "\n",
       "   male_smokers  handwashing_facilities  hospital_beds_per_thousand  \\\n",
       "0          39.3                     NaN                       4.690   \n",
       "1           NaN                     NaN                         NaN   \n",
       "2          44.4                     NaN                       7.454   \n",
       "\n",
       "   life_expectancy  human_development_index  population  \\\n",
       "0            78.74                    0.892     1326064   \n",
       "1              NaN                      NaN  4721383370   \n",
       "2            75.05                    0.816     6781955   \n",
       "\n",
       "   excess_mortality_cumulative_absolute  excess_mortality_cumulative  \\\n",
       "0                                3483.9                         8.89   \n",
       "1                                   NaN                          NaN   \n",
       "2                                   NaN                          NaN   \n",
       "\n",
       "   excess_mortality  excess_mortality_cumulative_per_million  \n",
       "0              7.79                                2627.2488  \n",
       "1               NaN                                      NaN  \n",
       "2               NaN                                      NaN  \n",
       "\n",
       "[3 rows x 67 columns]"
      ]
     },
     "execution_count": 2,
     "metadata": {},
     "output_type": "execute_result"
    }
   ],
   "source": [
    "df= pd.read_csv('owid-covid-data.csv')\n",
    "df.head(3)"
   ]
  },
  {
   "cell_type": "code",
   "execution_count": 3,
   "id": "d4f179de",
   "metadata": {
    "scrolled": true
   },
   "outputs": [
    {
     "name": "stdout",
     "output_type": "stream",
     "text": [
      "<class 'pandas.core.frame.DataFrame'>\n",
      "RangeIndex: 357233 entries, 0 to 357232\n",
      "Data columns (total 67 columns):\n",
      " #   Column                                      Non-Null Count   Dtype  \n",
      "---  ------                                      --------------   -----  \n",
      " 0   iso_code                                    357233 non-null  object \n",
      " 1   continent                                   340234 non-null  object \n",
      " 2   location                                    357233 non-null  object \n",
      " 3   date                                        357233 non-null  object \n",
      " 4   total_cases                                 319164 non-null  float64\n",
      " 5   new_cases                                   347550 non-null  float64\n",
      " 6   new_cases_smoothed                          346291 non-null  float64\n",
      " 7   total_deaths                                297655 non-null  float64\n",
      " 8   new_deaths                                  347624 non-null  float64\n",
      " 9   new_deaths_smoothed                         346394 non-null  float64\n",
      " 10  total_cases_per_million                     319164 non-null  float64\n",
      " 11  new_cases_per_million                       347550 non-null  float64\n",
      " 12  new_cases_smoothed_per_million              346291 non-null  float64\n",
      " 13  total_deaths_per_million                    297655 non-null  float64\n",
      " 14  new_deaths_per_million                      347624 non-null  float64\n",
      " 15  new_deaths_smoothed_per_million             346394 non-null  float64\n",
      " 16  reproduction_rate                           184817 non-null  float64\n",
      " 17  icu_patients                                37793 non-null   float64\n",
      " 18  icu_patients_per_million                    37793 non-null   float64\n",
      " 19  hosp_patients                               39165 non-null   float64\n",
      " 20  hosp_patients_per_million                   39165 non-null   float64\n",
      " 21  weekly_icu_admissions                       10293 non-null   float64\n",
      " 22  weekly_icu_admissions_per_million           10293 non-null   float64\n",
      " 23  weekly_hosp_admissions                      23444 non-null   float64\n",
      " 24  weekly_hosp_admissions_per_million          23444 non-null   float64\n",
      " 25  total_tests                                 79387 non-null   float64\n",
      " 26  new_tests                                   75403 non-null   float64\n",
      " 27  total_tests_per_thousand                    79387 non-null   float64\n",
      " 28  new_tests_per_thousand                      75403 non-null   float64\n",
      " 29  new_tests_smoothed                          103965 non-null  float64\n",
      " 30  new_tests_smoothed_per_thousand             103965 non-null  float64\n",
      " 31  positive_rate                               95927 non-null   float64\n",
      " 32  tests_per_case                              94348 non-null   float64\n",
      " 33  tests_units                                 106788 non-null  object \n",
      " 34  total_vaccinations                          79934 non-null   float64\n",
      " 35  people_vaccinated                           76505 non-null   float64\n",
      " 36  people_fully_vaccinated                     73193 non-null   float64\n",
      " 37  total_boosters                              48147 non-null   float64\n",
      " 38  new_vaccinations                            65921 non-null   float64\n",
      " 39  new_vaccinations_smoothed                   183012 non-null  float64\n",
      " 40  total_vaccinations_per_hundred              79934 non-null   float64\n",
      " 41  people_vaccinated_per_hundred               76505 non-null   float64\n",
      " 42  people_fully_vaccinated_per_hundred         73193 non-null   float64\n",
      " 43  total_boosters_per_hundred                  48147 non-null   float64\n",
      " 44  new_vaccinations_smoothed_per_million       183012 non-null  float64\n",
      " 45  new_people_vaccinated_smoothed              182769 non-null  float64\n",
      " 46  new_people_vaccinated_smoothed_per_hundred  182769 non-null  float64\n",
      " 47  stringency_index                            197651 non-null  float64\n",
      " 48  population_density                          303326 non-null  float64\n",
      " 49  median_age                                  282051 non-null  float64\n",
      " 50  aged_65_older                               272218 non-null  float64\n",
      " 51  aged_70_older                               279223 non-null  float64\n",
      " 52  gdp_per_capita                              276460 non-null  float64\n",
      " 53  extreme_poverty                             178197 non-null  float64\n",
      " 54  cardiovasc_death_rate                       277117 non-null  float64\n",
      " 55  diabetes_prevalence                         291219 non-null  float64\n",
      " 56  female_smokers                              207897 non-null  float64\n",
      " 57  male_smokers                                205069 non-null  float64\n",
      " 58  handwashing_facilities                      135754 non-null  float64\n",
      " 59  hospital_beds_per_thousand                  244661 non-null  float64\n",
      " 60  life_expectancy                             328713 non-null  float64\n",
      " 61  human_development_index                     268594 non-null  float64\n",
      " 62  population                                  357233 non-null  int64  \n",
      " 63  excess_mortality_cumulative_absolute        12211 non-null   float64\n",
      " 64  excess_mortality_cumulative                 12211 non-null   float64\n",
      " 65  excess_mortality                            12211 non-null   float64\n",
      " 66  excess_mortality_cumulative_per_million     12211 non-null   float64\n",
      "dtypes: float64(61), int64(1), object(5)\n",
      "memory usage: 182.6+ MB\n"
     ]
    }
   ],
   "source": [
    "df.info()"
   ]
  },
  {
   "cell_type": "code",
   "execution_count": 4,
   "id": "11556ca9",
   "metadata": {},
   "outputs": [],
   "source": [
    "df_clean = df.copy()"
   ]
  },
  {
   "cell_type": "code",
   "execution_count": 5,
   "id": "23ce4d59",
   "metadata": {
    "scrolled": true
   },
   "outputs": [
    {
     "data": {
      "text/html": [
       "<div>\n",
       "<style scoped>\n",
       "    .dataframe tbody tr th:only-of-type {\n",
       "        vertical-align: middle;\n",
       "    }\n",
       "\n",
       "    .dataframe tbody tr th {\n",
       "        vertical-align: top;\n",
       "    }\n",
       "\n",
       "    .dataframe thead th {\n",
       "        text-align: right;\n",
       "    }\n",
       "</style>\n",
       "<table border=\"1\" class=\"dataframe\">\n",
       "  <thead>\n",
       "    <tr style=\"text-align: right;\">\n",
       "      <th></th>\n",
       "      <th>feature</th>\n",
       "      <th>missing_value</th>\n",
       "      <th>percentage</th>\n",
       "    </tr>\n",
       "  </thead>\n",
       "  <tbody>\n",
       "    <tr>\n",
       "      <th>0</th>\n",
       "      <td>weekly_icu_admissions</td>\n",
       "      <td>346940</td>\n",
       "      <td>97.119</td>\n",
       "    </tr>\n",
       "    <tr>\n",
       "      <th>1</th>\n",
       "      <td>weekly_icu_admissions_per_million</td>\n",
       "      <td>346940</td>\n",
       "      <td>97.119</td>\n",
       "    </tr>\n",
       "    <tr>\n",
       "      <th>2</th>\n",
       "      <td>excess_mortality_cumulative_per_million</td>\n",
       "      <td>345022</td>\n",
       "      <td>96.582</td>\n",
       "    </tr>\n",
       "    <tr>\n",
       "      <th>3</th>\n",
       "      <td>excess_mortality</td>\n",
       "      <td>345022</td>\n",
       "      <td>96.582</td>\n",
       "    </tr>\n",
       "    <tr>\n",
       "      <th>4</th>\n",
       "      <td>excess_mortality_cumulative</td>\n",
       "      <td>345022</td>\n",
       "      <td>96.582</td>\n",
       "    </tr>\n",
       "    <tr>\n",
       "      <th>...</th>\n",
       "      <td>...</td>\n",
       "      <td>...</td>\n",
       "      <td>...</td>\n",
       "    </tr>\n",
       "    <tr>\n",
       "      <th>58</th>\n",
       "      <td>new_deaths_smoothed</td>\n",
       "      <td>10839</td>\n",
       "      <td>3.034</td>\n",
       "    </tr>\n",
       "    <tr>\n",
       "      <th>59</th>\n",
       "      <td>new_cases</td>\n",
       "      <td>9683</td>\n",
       "      <td>2.711</td>\n",
       "    </tr>\n",
       "    <tr>\n",
       "      <th>60</th>\n",
       "      <td>new_cases_per_million</td>\n",
       "      <td>9683</td>\n",
       "      <td>2.711</td>\n",
       "    </tr>\n",
       "    <tr>\n",
       "      <th>61</th>\n",
       "      <td>new_deaths</td>\n",
       "      <td>9609</td>\n",
       "      <td>2.690</td>\n",
       "    </tr>\n",
       "    <tr>\n",
       "      <th>62</th>\n",
       "      <td>new_deaths_per_million</td>\n",
       "      <td>9609</td>\n",
       "      <td>2.690</td>\n",
       "    </tr>\n",
       "  </tbody>\n",
       "</table>\n",
       "<p>63 rows × 3 columns</p>\n",
       "</div>"
      ],
      "text/plain": [
       "                                    feature  missing_value  percentage\n",
       "0                     weekly_icu_admissions         346940      97.119\n",
       "1         weekly_icu_admissions_per_million         346940      97.119\n",
       "2   excess_mortality_cumulative_per_million         345022      96.582\n",
       "3                          excess_mortality         345022      96.582\n",
       "4               excess_mortality_cumulative         345022      96.582\n",
       "..                                      ...            ...         ...\n",
       "58                      new_deaths_smoothed          10839       3.034\n",
       "59                                new_cases           9683       2.711\n",
       "60                    new_cases_per_million           9683       2.711\n",
       "61                               new_deaths           9609       2.690\n",
       "62                   new_deaths_per_million           9609       2.690\n",
       "\n",
       "[63 rows x 3 columns]"
      ]
     },
     "execution_count": 5,
     "metadata": {},
     "output_type": "execute_result"
    }
   ],
   "source": [
    "data_missing_value = df_clean.isnull().sum().reset_index()\n",
    "data_missing_value.columns = ['feature','missing_value']\n",
    "data_missing_value['percentage'] = round((data_missing_value['missing_value']/len(df_clean))*100,3)\n",
    "data_missing_value = data_missing_value.sort_values('percentage', ascending=False).reset_index(drop=True)\n",
    "data_missing_value = data_missing_value[data_missing_value['percentage']>0]\n",
    "data_missing_value"
   ]
  },
  {
   "cell_type": "code",
   "execution_count": 6,
   "id": "63c24761",
   "metadata": {
    "scrolled": true
   },
   "outputs": [
    {
     "data": {
      "text/plain": [
       "['total_cases',\n",
       " 'new_cases',\n",
       " 'new_cases_smoothed',\n",
       " 'total_deaths',\n",
       " 'new_deaths',\n",
       " 'new_deaths_smoothed',\n",
       " 'total_cases_per_million',\n",
       " 'new_cases_per_million',\n",
       " 'new_cases_smoothed_per_million',\n",
       " 'total_deaths_per_million',\n",
       " 'new_deaths_per_million',\n",
       " 'new_deaths_smoothed_per_million',\n",
       " 'reproduction_rate',\n",
       " 'icu_patients',\n",
       " 'icu_patients_per_million',\n",
       " 'hosp_patients',\n",
       " 'hosp_patients_per_million',\n",
       " 'weekly_icu_admissions',\n",
       " 'weekly_icu_admissions_per_million',\n",
       " 'weekly_hosp_admissions',\n",
       " 'weekly_hosp_admissions_per_million',\n",
       " 'total_tests',\n",
       " 'new_tests',\n",
       " 'total_tests_per_thousand',\n",
       " 'new_tests_per_thousand',\n",
       " 'new_tests_smoothed',\n",
       " 'new_tests_smoothed_per_thousand',\n",
       " 'positive_rate',\n",
       " 'tests_per_case',\n",
       " 'total_vaccinations',\n",
       " 'people_vaccinated',\n",
       " 'people_fully_vaccinated',\n",
       " 'total_boosters',\n",
       " 'new_vaccinations',\n",
       " 'new_vaccinations_smoothed',\n",
       " 'total_vaccinations_per_hundred',\n",
       " 'people_vaccinated_per_hundred',\n",
       " 'people_fully_vaccinated_per_hundred',\n",
       " 'total_boosters_per_hundred',\n",
       " 'new_vaccinations_smoothed_per_million',\n",
       " 'new_people_vaccinated_smoothed',\n",
       " 'new_people_vaccinated_smoothed_per_hundred',\n",
       " 'stringency_index',\n",
       " 'population_density',\n",
       " 'median_age',\n",
       " 'aged_65_older',\n",
       " 'aged_70_older',\n",
       " 'gdp_per_capita',\n",
       " 'extreme_poverty',\n",
       " 'cardiovasc_death_rate',\n",
       " 'diabetes_prevalence',\n",
       " 'female_smokers',\n",
       " 'male_smokers',\n",
       " 'handwashing_facilities',\n",
       " 'hospital_beds_per_thousand',\n",
       " 'life_expectancy',\n",
       " 'human_development_index',\n",
       " 'excess_mortality_cumulative_absolute',\n",
       " 'excess_mortality_cumulative',\n",
       " 'excess_mortality',\n",
       " 'excess_mortality_cumulative_per_million']"
      ]
     },
     "execution_count": 6,
     "metadata": {},
     "output_type": "execute_result"
    }
   ],
   "source": [
    "#Numeric\n",
    "numerical = df.loc[:, (df.dtypes == int) | (df.dtypes == float)].columns.tolist()\n",
    "numerical"
   ]
  },
  {
   "cell_type": "code",
   "execution_count": 7,
   "id": "98f6de6a",
   "metadata": {},
   "outputs": [
    {
     "data": {
      "text/plain": [
       "['iso_code', 'continent', 'location', 'date', 'tests_units', 'population']"
      ]
     },
     "execution_count": 7,
     "metadata": {},
     "output_type": "execute_result"
    }
   ],
   "source": [
    "#Categorical\n",
    "categorical = df.loc[:, (df.dtypes != int) & (df.dtypes != float)].columns.tolist()\n",
    "categorical"
   ]
  },
  {
   "cell_type": "code",
   "execution_count": 8,
   "id": "00601864",
   "metadata": {
    "scrolled": true
   },
   "outputs": [
    {
     "data": {
      "text/plain": [
       "iso_code                                        0\n",
       "continent                                   16999\n",
       "location                                        0\n",
       "date                                            0\n",
       "total_cases                                 38069\n",
       "                                            ...  \n",
       "population                                      0\n",
       "excess_mortality_cumulative_absolute       345022\n",
       "excess_mortality_cumulative                345022\n",
       "excess_mortality                           345022\n",
       "excess_mortality_cumulative_per_million    345022\n",
       "Length: 67, dtype: int64"
      ]
     },
     "execution_count": 8,
     "metadata": {},
     "output_type": "execute_result"
    }
   ],
   "source": [
    "df_clean.isna().sum()"
   ]
  },
  {
   "cell_type": "code",
   "execution_count": 9,
   "id": "61cbc6e6",
   "metadata": {
    "scrolled": true
   },
   "outputs": [
    {
     "name": "stdout",
     "output_type": "stream",
     "text": [
      "Category counts:\n",
      "Africa           80599\n",
      "Europe           77313\n",
      "Asia             70608\n",
      "North America    57977\n",
      "Oceania          33936\n",
      "South America    19801\n",
      "NaN              16999\n",
      "Name: continent, dtype: int64\n"
     ]
    }
   ],
   "source": [
    "category_counts = df['continent'].value_counts(dropna=False)\n",
    "print(\"Category counts:\")\n",
    "print(category_counts)"
   ]
  },
  {
   "cell_type": "code",
   "execution_count": 15,
   "id": "a407d080",
   "metadata": {
    "scrolled": true
   },
   "outputs": [
    {
     "name": "stdout",
     "output_type": "stream",
     "text": [
      "Category counts:\n"
     ]
    },
    {
     "data": {
      "text/html": [
       "<div>\n",
       "<style scoped>\n",
       "    .dataframe tbody tr th:only-of-type {\n",
       "        vertical-align: middle;\n",
       "    }\n",
       "\n",
       "    .dataframe tbody tr th {\n",
       "        vertical-align: top;\n",
       "    }\n",
       "\n",
       "    .dataframe thead th {\n",
       "        text-align: right;\n",
       "    }\n",
       "</style>\n",
       "<table border=\"1\" class=\"dataframe\">\n",
       "  <thead>\n",
       "    <tr style=\"text-align: right;\">\n",
       "      <th></th>\n",
       "      <th>index</th>\n",
       "      <th>location</th>\n",
       "    </tr>\n",
       "  </thead>\n",
       "  <tbody>\n",
       "    <tr>\n",
       "      <th>0</th>\n",
       "      <td>Argentina</td>\n",
       "      <td>1419</td>\n",
       "    </tr>\n",
       "    <tr>\n",
       "      <th>1</th>\n",
       "      <td>Asia</td>\n",
       "      <td>1418</td>\n",
       "    </tr>\n",
       "    <tr>\n",
       "      <th>2</th>\n",
       "      <td>Bulgaria</td>\n",
       "      <td>1418</td>\n",
       "    </tr>\n",
       "    <tr>\n",
       "      <th>3</th>\n",
       "      <td>Czechia</td>\n",
       "      <td>1418</td>\n",
       "    </tr>\n",
       "    <tr>\n",
       "      <th>4</th>\n",
       "      <td>Europe</td>\n",
       "      <td>1418</td>\n",
       "    </tr>\n",
       "    <tr>\n",
       "      <th>...</th>\n",
       "      <td>...</td>\n",
       "      <td>...</td>\n",
       "    </tr>\n",
       "    <tr>\n",
       "      <th>250</th>\n",
       "      <td>Scotland</td>\n",
       "      <td>1305</td>\n",
       "    </tr>\n",
       "    <tr>\n",
       "      <th>251</th>\n",
       "      <td>Wales</td>\n",
       "      <td>1198</td>\n",
       "    </tr>\n",
       "    <tr>\n",
       "      <th>252</th>\n",
       "      <td>Macao</td>\n",
       "      <td>795</td>\n",
       "    </tr>\n",
       "    <tr>\n",
       "      <th>253</th>\n",
       "      <td>Northern Cyprus</td>\n",
       "      <td>691</td>\n",
       "    </tr>\n",
       "    <tr>\n",
       "      <th>254</th>\n",
       "      <td>Western Sahara</td>\n",
       "      <td>1</td>\n",
       "    </tr>\n",
       "  </tbody>\n",
       "</table>\n",
       "<p>255 rows × 2 columns</p>\n",
       "</div>"
      ],
      "text/plain": [
       "               index  location\n",
       "0          Argentina      1419\n",
       "1               Asia      1418\n",
       "2           Bulgaria      1418\n",
       "3            Czechia      1418\n",
       "4             Europe      1418\n",
       "..               ...       ...\n",
       "250         Scotland      1305\n",
       "251            Wales      1198\n",
       "252            Macao       795\n",
       "253  Northern Cyprus       691\n",
       "254   Western Sahara         1\n",
       "\n",
       "[255 rows x 2 columns]"
      ]
     },
     "execution_count": 15,
     "metadata": {},
     "output_type": "execute_result"
    }
   ],
   "source": [
    "category_counts = df['location'].value_counts(dropna=False)\n",
    "#print(\"Category counts:\")\n",
    "category_counts_df = pd.DataFrame(category_counts)\n",
    "type(category_counts_df)\n",
    "#display(category_counts_df.reset_index())\n",
    "category_counts_df=category_counts_df.reset_index()\n",
    "category_counts_df"
   ]
  },
  {
   "cell_type": "code",
   "execution_count": 16,
   "id": "f47ffccb",
   "metadata": {},
   "outputs": [],
   "source": [
    "nan_rows = df_clean[df_clean['continent'].isna()]"
   ]
  },
  {
   "cell_type": "code",
   "execution_count": 17,
   "id": "ca4c9867",
   "metadata": {},
   "outputs": [
    {
     "name": "stdout",
     "output_type": "stream",
     "text": [
      "Values in 'location' column for NaN rows in 'continent':\n",
      "['Asia' 'Europe' 'European Union' 'Lower middle income'\n",
      " 'Upper middle income' 'World' 'High income' 'South America'\n",
      " 'North America' 'Africa' 'Low income' 'Oceania']\n"
     ]
    }
   ],
   "source": [
    "if not nan_rows.empty:\n",
    "    nan_locations = nan_rows['location'].unique()\n",
    "    print(\"Values in 'location' column for NaN rows in 'continent':\")\n",
    "    print(nan_locations)\n",
    "else:\n",
    "    print(\"No NaN values in 'continent' column.\")"
   ]
  },
  {
   "cell_type": "code",
   "execution_count": 18,
   "id": "6a8fe961",
   "metadata": {},
   "outputs": [],
   "source": [
    "df.loc[df['location'] == 'Asia', 'continent'] = 'Asia'"
   ]
  },
  {
   "cell_type": "code",
   "execution_count": 19,
   "id": "f9323860",
   "metadata": {},
   "outputs": [],
   "source": [
    "df.loc[df['location'] == 'Europe', 'continent'] = 'Europe'"
   ]
  },
  {
   "cell_type": "code",
   "execution_count": 20,
   "id": "d2801514",
   "metadata": {},
   "outputs": [],
   "source": [
    "df.loc[df['location'] == 'European Union', 'continent'] = 'Europe'"
   ]
  },
  {
   "cell_type": "code",
   "execution_count": 21,
   "id": "45f1682c",
   "metadata": {},
   "outputs": [],
   "source": [
    "df.loc[df['location'] == 'South America', 'continent'] = 'South America'"
   ]
  },
  {
   "cell_type": "code",
   "execution_count": 22,
   "id": "0c302a28",
   "metadata": {},
   "outputs": [],
   "source": [
    "df.loc[df['location'] == 'North America', 'continent'] = 'North America'"
   ]
  },
  {
   "cell_type": "code",
   "execution_count": 23,
   "id": "1b382bd1",
   "metadata": {},
   "outputs": [],
   "source": [
    "df.loc[df['location'] == 'Oceania', 'continent'] = 'Oceania'"
   ]
  },
  {
   "cell_type": "code",
   "execution_count": 24,
   "id": "2983901a",
   "metadata": {},
   "outputs": [],
   "source": [
    "df.loc[df['location'] == 'Africa', 'continent'] = 'Africa'"
   ]
  },
  {
   "cell_type": "code",
   "execution_count": 25,
   "id": "88dfa4a7",
   "metadata": {},
   "outputs": [
    {
     "name": "stdout",
     "output_type": "stream",
     "text": [
      "Values in 'location' column for NaN rows in 'continent':\n",
      "['Lower middle income' 'Upper middle income' 'World' 'High income'\n",
      " 'Low income']\n"
     ]
    }
   ],
   "source": [
    "nan_rows = df[df['continent'].isna()]\n",
    "if not nan_rows.empty:\n",
    "    nan_locations = nan_rows['location'].unique()\n",
    "    print(\"Values in 'location' column for NaN rows in 'continent':\")\n",
    "    print(nan_locations)\n",
    "else:\n",
    "    print(\"No NaN values in 'continent' column.\")"
   ]
  },
  {
   "cell_type": "code",
   "execution_count": 28,
   "id": "13115767",
   "metadata": {},
   "outputs": [
    {
     "name": "stdout",
     "output_type": "stream",
     "text": [
      "                   index  location\n",
      "7    Lower middle income      1418\n",
      "9    Upper middle income      1418\n",
      "10                 World      1418\n",
      "13           High income      1417\n",
      "134           Low income      1414\n"
     ]
    }
   ],
   "source": [
    "show_list = ['Lower middle income', 'Upper middle income', 'World', 'High income', 'Low income']\n",
    "selected_rows = category_counts_df.loc[category_counts_df['index'].isin(show_list)]\n",
    "\n",
    "# Print the result\n",
    "print(selected_rows)"
   ]
  },
  {
   "cell_type": "code",
   "execution_count": 29,
   "id": "17a0e86a",
   "metadata": {},
   "outputs": [],
   "source": [
    "df.loc[df['location'] == 'Lower middle income', 'continent'] = 'Unknown'"
   ]
  },
  {
   "cell_type": "code",
   "execution_count": 30,
   "id": "9e5da69a",
   "metadata": {},
   "outputs": [],
   "source": [
    "df.loc[df['location'] == 'Upper middle income', 'continent'] = 'Unknown'"
   ]
  },
  {
   "cell_type": "code",
   "execution_count": 31,
   "id": "495d9f8b",
   "metadata": {},
   "outputs": [],
   "source": [
    "df.loc[df['location'] == 'World', 'continent'] = 'Unknown'"
   ]
  },
  {
   "cell_type": "code",
   "execution_count": 32,
   "id": "cffb883b",
   "metadata": {},
   "outputs": [],
   "source": [
    "df.loc[df['location'] == 'High income', 'continent'] = 'Unknown'"
   ]
  },
  {
   "cell_type": "code",
   "execution_count": 33,
   "id": "b1cc9586",
   "metadata": {},
   "outputs": [],
   "source": [
    "df.loc[df['location'] == 'Low income', 'continent'] = 'Unknown'"
   ]
  },
  {
   "cell_type": "code",
   "execution_count": 34,
   "id": "a72b912a",
   "metadata": {},
   "outputs": [
    {
     "name": "stdout",
     "output_type": "stream",
     "text": [
      "No NaN values in 'continent' column.\n"
     ]
    }
   ],
   "source": [
    "nan_rows = df[df['continent'].isna()]\n",
    "if not nan_rows.empty:\n",
    "    nan_locations = nan_rows['location'].unique()\n",
    "    print(\"Values in 'location' column for NaN rows in 'continent':\")\n",
    "    print(nan_locations)\n",
    "else:\n",
    "    print(\"No NaN values in 'continent' column.\")"
   ]
  },
  {
   "cell_type": "code",
   "execution_count": 35,
   "id": "907caf75",
   "metadata": {},
   "outputs": [],
   "source": [
    "# Replace null values in the 'tests_units' column with \"N/A\"\n",
    "df['tests_units'].fillna(\"N/A\", inplace=True)"
   ]
  },
  {
   "cell_type": "code",
   "execution_count": 36,
   "id": "32f49fbb",
   "metadata": {},
   "outputs": [],
   "source": [
    "columns_to_replace = ['total_cases', 'new_cases', 'new_cases_smoothed','total_cases_per_million','new_cases_per_million','new_cases_smoothed_per_million']  # Replace with your column names\n",
    "df[columns_to_replace] = df[columns_to_replace].fillna(0)"
   ]
  },
  {
   "cell_type": "code",
   "execution_count": 37,
   "id": "086a04ab",
   "metadata": {},
   "outputs": [],
   "source": [
    "columns_to_replace = ['total_deaths', 'new_deaths', 'new_deaths_smoothed','total_deaths_per_million','new_deaths_per_million','new_deaths_smoothed_per_million']  # Replace with your column names\n",
    "df[columns_to_replace] = df[columns_to_replace].fillna(0)"
   ]
  },
  {
   "cell_type": "code",
   "execution_count": 38,
   "id": "530b4ce0",
   "metadata": {},
   "outputs": [],
   "source": [
    "columns_to_replace = ['excess_mortality', 'excess_mortality_cumulative', 'excess_mortality_cumulative_absolute','excess_mortality_cumulative_per_million']  # Replace with your column names\n",
    "df[columns_to_replace] = df[columns_to_replace].fillna(100000000)"
   ]
  },
  {
   "cell_type": "code",
   "execution_count": 39,
   "id": "d7343965",
   "metadata": {},
   "outputs": [],
   "source": [
    "columns_to_replace = ['icu_patients', 'icu_patients_per_million', 'hosp_patients','hosp_patients_per_million','weekly_icu_admissions','weekly_icu_admissions_per_million','weekly_hosp_admissions','weekly_hosp_admissions_per_million']  # Replace with your column names\n",
    "df[columns_to_replace] = df[columns_to_replace].fillna(0)"
   ]
  },
  {
   "cell_type": "code",
   "execution_count": 40,
   "id": "566c5876",
   "metadata": {},
   "outputs": [],
   "source": [
    "columns_to_replace = ['stringency_index']  # Replace with your column names\n",
    "df[columns_to_replace] = df[columns_to_replace].fillna(200)"
   ]
  },
  {
   "cell_type": "code",
   "execution_count": 41,
   "id": "6a474095",
   "metadata": {},
   "outputs": [],
   "source": [
    "columns_to_replace = ['reproduction_rate']  # Replace with your column names\n",
    "df[columns_to_replace] = df[columns_to_replace].fillna(200)"
   ]
  },
  {
   "cell_type": "code",
   "execution_count": 42,
   "id": "d96dbbcf",
   "metadata": {},
   "outputs": [],
   "source": [
    "columns_to_replace = ['total_tests','new_tests','total_tests_per_thousand','new_tests_per_thousand','new_tests_smoothed','new_tests_smoothed_per_thousand','positive_rate','tests_per_case','tests_units']  # Replace with your column names\n",
    "df[columns_to_replace] = df[columns_to_replace].fillna(0)"
   ]
  },
  {
   "cell_type": "code",
   "execution_count": 43,
   "id": "ba239a4c",
   "metadata": {},
   "outputs": [],
   "source": [
    "columns_to_replace = ['total_vaccinations','people_vaccinated','people_fully_vaccinated','total_boosters','new_vaccinations','new_vaccinations_smoothed','total_vaccinations_per_hundred','people_vaccinated_per_hundred','people_fully_vaccinated_per_hundred','total_boosters_per_hundred','new_vaccinations_smoothed_per_million','new_people_vaccinated_smoothed','new_people_vaccinated_smoothed_per_hundred']  # Replace with your column names\n",
    "df[columns_to_replace] = df[columns_to_replace].fillna(0)"
   ]
  },
  {
   "cell_type": "code",
   "execution_count": 44,
   "id": "b3644e53",
   "metadata": {},
   "outputs": [
    {
     "name": "stdout",
     "output_type": "stream",
     "text": [
      "Columns with null values:\n",
      "['population_density', 'median_age', 'aged_65_older', 'aged_70_older', 'gdp_per_capita', 'extreme_poverty', 'cardiovasc_death_rate', 'diabetes_prevalence', 'female_smokers', 'male_smokers', 'handwashing_facilities', 'hospital_beds_per_thousand', 'life_expectancy', 'human_development_index']\n"
     ]
    }
   ],
   "source": [
    "# Identify columns with null values\n",
    "columns_with_nulls = df.columns[df.isnull().any()].tolist()\n",
    "\n",
    "# Print the result\n",
    "print(\"Columns with null values:\")\n",
    "print(columns_with_nulls)"
   ]
  },
  {
   "cell_type": "code",
   "execution_count": 46,
   "id": "f652d2d3",
   "metadata": {},
   "outputs": [],
   "source": [
    "columns_to_replace = ['population_density', 'median_age', 'aged_65_older', 'aged_70_older', 'gdp_per_capita', 'extreme_poverty', 'cardiovasc_death_rate', 'diabetes_prevalence', 'female_smokers', 'male_smokers', 'hospital_beds_per_thousand', 'life_expectancy', 'human_development_index']  # Replace with your column names\n",
    "df[columns_to_replace] = df[columns_to_replace].fillna(0)"
   ]
  },
  {
   "cell_type": "code",
   "execution_count": 45,
   "id": "262495d5",
   "metadata": {},
   "outputs": [],
   "source": [
    "columns_to_replace = ['handwashing_facilities']  # Replace with your column names\n",
    "df[columns_to_replace] = df[columns_to_replace].fillna(200)"
   ]
  },
  {
   "cell_type": "code",
   "execution_count": 47,
   "id": "bcbca0da",
   "metadata": {},
   "outputs": [
    {
     "name": "stdout",
     "output_type": "stream",
     "text": [
      "Columns with null values:\n",
      "[]\n"
     ]
    }
   ],
   "source": [
    "# Identify columns with null values\n",
    "columns_with_nulls = df.columns[df.isnull().any()].tolist()\n",
    "\n",
    "# Print the result\n",
    "print(\"Columns with null values:\")\n",
    "print(columns_with_nulls)"
   ]
  },
  {
   "cell_type": "code",
   "execution_count": 49,
   "id": "21b94028",
   "metadata": {},
   "outputs": [],
   "source": [
    "# Delete those rows from the DataFrame\n",
    "df = df[df['continent'] != 'Unknown']"
   ]
  },
  {
   "cell_type": "code",
   "execution_count": 50,
   "id": "bea77532",
   "metadata": {},
   "outputs": [],
   "source": [
    "# Specify the file path where you want to save the CSV file\n",
    "csv_file_path = 'C:/Vaishnavi files/01 MSBA Files/04 Subjects/02 Fall/06 Information Management/Project/IM_data_cleaned1.csv'\n",
    "\n",
    "# Save the DataFrame as a CSV file\n",
    "df.to_csv(csv_file_path, index=False)"
   ]
  }
 ],
 "metadata": {
  "kernelspec": {
   "display_name": "Python 3 (ipykernel)",
   "language": "python",
   "name": "python3"
  },
  "language_info": {
   "codemirror_mode": {
    "name": "ipython",
    "version": 3
   },
   "file_extension": ".py",
   "mimetype": "text/x-python",
   "name": "python",
   "nbconvert_exporter": "python",
   "pygments_lexer": "ipython3",
   "version": "3.10.9"
  }
 },
 "nbformat": 4,
 "nbformat_minor": 5
}
